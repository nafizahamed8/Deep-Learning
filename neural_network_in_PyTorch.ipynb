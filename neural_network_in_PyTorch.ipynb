{
  "nbformat": 4,
  "nbformat_minor": 0,
  "metadata": {
    "colab": {
      "provenance": [],
      "authorship_tag": "ABX9TyOBCELgTgSWJ0wnkZiX2hvo",
      "include_colab_link": true
    },
    "kernelspec": {
      "name": "python3",
      "display_name": "Python 3"
    },
    "language_info": {
      "name": "python"
    }
  },
  "cells": [
    {
      "cell_type": "markdown",
      "metadata": {
        "id": "view-in-github",
        "colab_type": "text"
      },
      "source": [
        "<a href=\"https://colab.research.google.com/github/nafizahamed8/Deep-Learning/blob/main/neural_network_in_PyTorch.ipynb\" target=\"_parent\"><img src=\"https://colab.research.google.com/assets/colab-badge.svg\" alt=\"Open In Colab\"/></a>"
      ]
    },
    {
      "cell_type": "code",
      "execution_count": 1,
      "metadata": {
        "colab": {
          "base_uri": "https://localhost:8080/"
        },
        "id": "w6l1fQZ3msw4",
        "outputId": "0ec68708-dc7d-4463-b5f8-ce12db6f89fb"
      },
      "outputs": [
        {
          "output_type": "execute_result",
          "data": {
            "text/plain": [
              "torch.Size([1, 2])"
            ]
          },
          "metadata": {},
          "execution_count": 1
        }
      ],
      "source": [
        "import torch\n",
        "x=torch.tensor([[1,2]])\n",
        "y=torch.tensor([[2],[1]])\n",
        "x.shape\n"
      ]
    },
    {
      "cell_type": "code",
      "source": [
        "y.shape"
      ],
      "metadata": {
        "colab": {
          "base_uri": "https://localhost:8080/"
        },
        "id": "g21PA-VWnZ_0",
        "outputId": "d0f84f5b-0582-4f68-ffc1-7cf28aab91c5"
      },
      "execution_count": 2,
      "outputs": [
        {
          "output_type": "execute_result",
          "data": {
            "text/plain": [
              "torch.Size([2, 1])"
            ]
          },
          "metadata": {},
          "execution_count": 2
        }
      ]
    },
    {
      "cell_type": "code",
      "source": [
        "x=torch.tensor([[False,1,2.0]])\n",
        "x.shape\n",
        "print(x)\n"
      ],
      "metadata": {
        "colab": {
          "base_uri": "https://localhost:8080/"
        },
        "id": "QfAb1Sv-nlRT",
        "outputId": "acc9a44a-20cc-434d-a967-2ecb9a2a200b"
      },
      "execution_count": 3,
      "outputs": [
        {
          "output_type": "stream",
          "name": "stdout",
          "text": [
            "tensor([[0., 1., 2.]])\n"
          ]
        }
      ]
    },
    {
      "cell_type": "code",
      "source": [
        "torch.randint(low=0,high=4,size=(3,4))"
      ],
      "metadata": {
        "colab": {
          "base_uri": "https://localhost:8080/"
        },
        "id": "x3M12Mdxnytk",
        "outputId": "aa96d78f-4a18-4e34-92e8-ebe403cf1961"
      },
      "execution_count": 4,
      "outputs": [
        {
          "output_type": "execute_result",
          "data": {
            "text/plain": [
              "tensor([[1, 0, 1, 2],\n",
              "        [2, 2, 1, 2],\n",
              "        [1, 1, 3, 3]])"
            ]
          },
          "metadata": {},
          "execution_count": 4
        }
      ]
    },
    {
      "cell_type": "code",
      "source": [
        "torch.rand(3,4)"
      ],
      "metadata": {
        "colab": {
          "base_uri": "https://localhost:8080/"
        },
        "id": "6jOS9gSeo91i",
        "outputId": "6d245150-072e-42bd-b714-a3c00eea9561"
      },
      "execution_count": 5,
      "outputs": [
        {
          "output_type": "execute_result",
          "data": {
            "text/plain": [
              "tensor([[0.4014, 0.6195, 0.4062, 0.7291],\n",
              "        [0.1276, 0.6317, 0.1829, 0.7686],\n",
              "        [0.2899, 0.0861, 0.3897, 0.8293]])"
            ]
          },
          "metadata": {},
          "execution_count": 5
        }
      ]
    },
    {
      "cell_type": "code",
      "source": [
        "torch.randn(3,4)"
      ],
      "metadata": {
        "colab": {
          "base_uri": "https://localhost:8080/"
        },
        "id": "UN_qinSAo7tk",
        "outputId": "e750480d-7c53-4f28-9f65-ab7a6356e031"
      },
      "execution_count": 6,
      "outputs": [
        {
          "output_type": "execute_result",
          "data": {
            "text/plain": [
              "tensor([[ 0.5947, -0.2612,  1.7126,  1.5539],\n",
              "        [ 0.6568,  0.5295,  0.7621,  0.0795],\n",
              "        [-1.6807,  0.5608,  0.5344,  0.0831]])"
            ]
          },
          "metadata": {},
          "execution_count": 6
        }
      ]
    },
    {
      "cell_type": "code",
      "source": [
        "import numpy as np\n",
        "x=np.array([[1,2,3],[4,5,6]])\n",
        "y=torch.tensor(x)\n",
        "print(type(y))"
      ],
      "metadata": {
        "colab": {
          "base_uri": "https://localhost:8080/"
        },
        "id": "o6sSblVfpJ1F",
        "outputId": "bdc661b2-db8f-46db-8373-df9149338318"
      },
      "execution_count": 7,
      "outputs": [
        {
          "output_type": "stream",
          "name": "stdout",
          "text": [
            "<class 'torch.Tensor'>\n"
          ]
        }
      ]
    },
    {
      "cell_type": "code",
      "source": [
        "y*10"
      ],
      "metadata": {
        "colab": {
          "base_uri": "https://localhost:8080/"
        },
        "id": "lpugeuy6p3hw",
        "outputId": "abfd1a32-5602-4199-950a-606af129759c"
      },
      "execution_count": 8,
      "outputs": [
        {
          "output_type": "execute_result",
          "data": {
            "text/plain": [
              "tensor([[10, 20, 30],\n",
              "        [40, 50, 60]])"
            ]
          },
          "metadata": {},
          "execution_count": 8
        }
      ]
    },
    {
      "cell_type": "code",
      "source": [
        "y.add(10)"
      ],
      "metadata": {
        "colab": {
          "base_uri": "https://localhost:8080/"
        },
        "id": "LVD3nYCnqBRw",
        "outputId": "dbc1001c-9fc1-4ed9-af5e-44bfd1f36d39"
      },
      "execution_count": 9,
      "outputs": [
        {
          "output_type": "execute_result",
          "data": {
            "text/plain": [
              "tensor([[11, 12, 13],\n",
              "        [14, 15, 16]])"
            ]
          },
          "metadata": {},
          "execution_count": 9
        }
      ]
    },
    {
      "cell_type": "code",
      "source": [
        "y=torch.tensor([2,3,1,0])\n",
        "y.shape"
      ],
      "metadata": {
        "colab": {
          "base_uri": "https://localhost:8080/"
        },
        "id": "1lk-avq2qUjw",
        "outputId": "67dd426a-1cfd-4835-c306-fa18f8e2b7e1"
      },
      "execution_count": 10,
      "outputs": [
        {
          "output_type": "execute_result",
          "data": {
            "text/plain": [
              "torch.Size([4])"
            ]
          },
          "metadata": {},
          "execution_count": 10
        }
      ]
    },
    {
      "cell_type": "code",
      "source": [
        "y=y.view(4,1)\n",
        "y"
      ],
      "metadata": {
        "colab": {
          "base_uri": "https://localhost:8080/"
        },
        "id": "3yQwBrqMqdaX",
        "outputId": "79926bdd-3a7a-4a3b-cb3a-7082da07ebf9"
      },
      "execution_count": 11,
      "outputs": [
        {
          "output_type": "execute_result",
          "data": {
            "text/plain": [
              "tensor([[2],\n",
              "        [3],\n",
              "        [1],\n",
              "        [0]])"
            ]
          },
          "metadata": {},
          "execution_count": 11
        }
      ]
    },
    {
      "cell_type": "code",
      "source": [
        "x=torch.randn(10,1,10)\n",
        "x"
      ],
      "metadata": {
        "colab": {
          "base_uri": "https://localhost:8080/"
        },
        "id": "4OEcdP-srheJ",
        "outputId": "f3770e16-e8e7-434c-e367-997d0b33b452"
      },
      "execution_count": 12,
      "outputs": [
        {
          "output_type": "execute_result",
          "data": {
            "text/plain": [
              "tensor([[[ 0.2431, -0.4568, -0.9068,  1.5989, -0.6275,  0.1592,  0.9679,\n",
              "           0.4972, -0.0613,  0.3193]],\n",
              "\n",
              "        [[ 2.1989, -0.3754, -0.4664,  2.2856,  0.0985,  0.2351,  0.1676,\n",
              "           0.4163, -0.7702, -0.2100]],\n",
              "\n",
              "        [[ 0.4508,  1.5472,  0.6572,  1.3806,  0.4129, -0.0516,  0.2286,\n",
              "           0.8655,  0.0270, -1.0240]],\n",
              "\n",
              "        [[ 0.9942,  1.1687, -0.7924, -0.5269,  1.0881,  1.1956,  1.5472,\n",
              "           0.2399, -0.3280,  0.7338]],\n",
              "\n",
              "        [[ 2.0967,  0.6505,  0.6694, -0.6001,  1.7138, -1.0083,  0.1765,\n",
              "          -1.3660, -0.8498, -0.2868]],\n",
              "\n",
              "        [[-0.3926, -1.3795,  1.0665, -0.4465, -0.8344, -0.5079,  0.7235,\n",
              "           0.5752, -0.2015, -0.6508]],\n",
              "\n",
              "        [[-0.1126, -2.1867, -0.3289,  1.2722, -0.3089,  0.2398, -0.0100,\n",
              "           0.8236,  0.8741, -0.8158]],\n",
              "\n",
              "        [[-1.5379, -1.0050,  0.4498,  1.3288,  0.3078, -2.4186,  0.3799,\n",
              "          -1.3530, -2.2377,  0.4555]],\n",
              "\n",
              "        [[-0.5469, -0.0492,  0.8303, -0.0531,  0.2628, -0.7083, -1.1154,\n",
              "          -1.5184,  0.1716, -0.5887]],\n",
              "\n",
              "        [[-0.2708,  0.4113,  2.0158,  1.3733, -0.6710,  0.1162,  0.2246,\n",
              "           0.8899, -0.6572, -0.5065]]])"
            ]
          },
          "metadata": {},
          "execution_count": 12
        }
      ]
    },
    {
      "cell_type": "code",
      "source": [
        "z1=x.squeeze(1)\n",
        "z1\n",
        "print(x.shape,z1.shape)"
      ],
      "metadata": {
        "colab": {
          "base_uri": "https://localhost:8080/"
        },
        "id": "3AVii4zAwyvi",
        "outputId": "3592f86f-719f-4756-d8aa-319ea398c8f9"
      },
      "execution_count": 13,
      "outputs": [
        {
          "output_type": "stream",
          "name": "stdout",
          "text": [
            "torch.Size([10, 1, 10]) torch.Size([10, 10])\n"
          ]
        }
      ]
    },
    {
      "cell_type": "code",
      "source": [
        "z2=x.unsqueeze(2)\n",
        "z2.shape"
      ],
      "metadata": {
        "colab": {
          "base_uri": "https://localhost:8080/"
        },
        "id": "o3yLJiFgxErc",
        "outputId": "bdea3078-0e17-4a5f-feda-a50fb846ea81"
      },
      "execution_count": 14,
      "outputs": [
        {
          "output_type": "execute_result",
          "data": {
            "text/plain": [
              "torch.Size([10, 1, 1, 10])"
            ]
          },
          "metadata": {},
          "execution_count": 14
        }
      ]
    },
    {
      "cell_type": "code",
      "source": [
        "x=torch.randn(10,10,10)\n",
        "z=torch.cat([x,x],axis=1)\n",
        "z.shape"
      ],
      "metadata": {
        "colab": {
          "base_uri": "https://localhost:8080/"
        },
        "id": "1mOz1m__x1Ox",
        "outputId": "54f5662b-6fec-466a-e074-1fd0407d2460"
      },
      "execution_count": 15,
      "outputs": [
        {
          "output_type": "execute_result",
          "data": {
            "text/plain": [
              "torch.Size([10, 20, 10])"
            ]
          },
          "metadata": {},
          "execution_count": 15
        }
      ]
    },
    {
      "cell_type": "code",
      "source": [
        "x=torch.arange(25)\n",
        "x"
      ],
      "metadata": {
        "colab": {
          "base_uri": "https://localhost:8080/"
        },
        "id": "E1o4CEeZySGT",
        "outputId": "63a52320-5889-4b54-9dd6-27ff5624deee"
      },
      "execution_count": 16,
      "outputs": [
        {
          "output_type": "execute_result",
          "data": {
            "text/plain": [
              "tensor([ 0,  1,  2,  3,  4,  5,  6,  7,  8,  9, 10, 11, 12, 13, 14, 15, 16, 17,\n",
              "        18, 19, 20, 21, 22, 23, 24])"
            ]
          },
          "metadata": {},
          "execution_count": 16
        }
      ]
    },
    {
      "cell_type": "code",
      "source": [
        "print(x.max(),x.min())"
      ],
      "metadata": {
        "colab": {
          "base_uri": "https://localhost:8080/"
        },
        "id": "YlwqbK2jyWcV",
        "outputId": "e11a875b-61c9-45b2-f009-bc3aaa29d25d"
      },
      "execution_count": 17,
      "outputs": [
        {
          "output_type": "stream",
          "name": "stdout",
          "text": [
            "tensor(24) tensor(0)\n"
          ]
        }
      ]
    },
    {
      "cell_type": "code",
      "source": [
        "x=torch.arange(25).reshape(5,5)\n",
        "x"
      ],
      "metadata": {
        "colab": {
          "base_uri": "https://localhost:8080/"
        },
        "id": "3hsGgAYPyhOO",
        "outputId": "02392683-7801-4b4d-a271-ece624676cde"
      },
      "execution_count": 18,
      "outputs": [
        {
          "output_type": "execute_result",
          "data": {
            "text/plain": [
              "tensor([[ 0,  1,  2,  3,  4],\n",
              "        [ 5,  6,  7,  8,  9],\n",
              "        [10, 11, 12, 13, 14],\n",
              "        [15, 16, 17, 18, 19],\n",
              "        [20, 21, 22, 23, 24]])"
            ]
          },
          "metadata": {},
          "execution_count": 18
        }
      ]
    },
    {
      "cell_type": "code",
      "source": [
        "print(x.max(dim=0))"
      ],
      "metadata": {
        "colab": {
          "base_uri": "https://localhost:8080/"
        },
        "id": "leHnZDpAy1E6",
        "outputId": "749b27d1-76e5-4f30-c402-42cae755ba19"
      },
      "execution_count": 19,
      "outputs": [
        {
          "output_type": "stream",
          "name": "stdout",
          "text": [
            "torch.return_types.max(\n",
            "values=tensor([20, 21, 22, 23, 24]),\n",
            "indices=tensor([4, 4, 4, 4, 4]))\n"
          ]
        }
      ]
    },
    {
      "cell_type": "code",
      "source": [
        "m,argm=x.max(dim=1)\n",
        "print(m,argm)"
      ],
      "metadata": {
        "colab": {
          "base_uri": "https://localhost:8080/"
        },
        "id": "ifk30nSPza5j",
        "outputId": "d4b75d38-7952-42df-ccbb-ef0ede3fc6de"
      },
      "execution_count": 20,
      "outputs": [
        {
          "output_type": "stream",
          "name": "stdout",
          "text": [
            "tensor([ 4,  9, 14, 19, 24]) tensor([4, 4, 4, 4, 4])\n"
          ]
        }
      ]
    },
    {
      "cell_type": "code",
      "source": [
        "dir(torch.tensor)"
      ],
      "metadata": {
        "collapsed": true,
        "colab": {
          "base_uri": "https://localhost:8080/"
        },
        "id": "6h8DRe0iz2Dv",
        "outputId": "e84efc86-94c2-4ab7-f024-c9090830cd31"
      },
      "execution_count": 21,
      "outputs": [
        {
          "output_type": "execute_result",
          "data": {
            "text/plain": [
              "['__call__',\n",
              " '__class__',\n",
              " '__delattr__',\n",
              " '__dir__',\n",
              " '__doc__',\n",
              " '__eq__',\n",
              " '__format__',\n",
              " '__ge__',\n",
              " '__getattribute__',\n",
              " '__getstate__',\n",
              " '__gt__',\n",
              " '__hash__',\n",
              " '__init__',\n",
              " '__init_subclass__',\n",
              " '__le__',\n",
              " '__lt__',\n",
              " '__module__',\n",
              " '__name__',\n",
              " '__ne__',\n",
              " '__new__',\n",
              " '__qualname__',\n",
              " '__reduce__',\n",
              " '__reduce_ex__',\n",
              " '__repr__',\n",
              " '__self__',\n",
              " '__setattr__',\n",
              " '__sizeof__',\n",
              " '__str__',\n",
              " '__subclasshook__',\n",
              " '__text_signature__']"
            ]
          },
          "metadata": {},
          "execution_count": 21
        }
      ]
    },
    {
      "cell_type": "code",
      "source": [
        "import torch\n",
        "x=torch.tensor([[2,-1],[1.,1.]],requires_grad=True)"
      ],
      "metadata": {
        "id": "1prGHGQ7z6eq"
      },
      "execution_count": 22,
      "outputs": []
    },
    {
      "cell_type": "code",
      "source": [
        "out=x.pow(2).sum()"
      ],
      "metadata": {
        "id": "JhO3y2KEf_H-"
      },
      "execution_count": 23,
      "outputs": []
    },
    {
      "cell_type": "code",
      "source": [
        "out"
      ],
      "metadata": {
        "colab": {
          "base_uri": "https://localhost:8080/"
        },
        "id": "vKeRd8JZgHM1",
        "outputId": "db38e108-46c0-4c5b-fa1c-3f06f50fb3e2"
      },
      "execution_count": 24,
      "outputs": [
        {
          "output_type": "execute_result",
          "data": {
            "text/plain": [
              "tensor(7., grad_fn=<SumBackward0>)"
            ]
          },
          "metadata": {},
          "execution_count": 24
        }
      ]
    },
    {
      "cell_type": "code",
      "source": [
        "out.backward()"
      ],
      "metadata": {
        "id": "GwJ2YM5CgKrH"
      },
      "execution_count": 25,
      "outputs": []
    },
    {
      "cell_type": "code",
      "source": [
        "x.grad"
      ],
      "metadata": {
        "colab": {
          "base_uri": "https://localhost:8080/"
        },
        "id": "25mI0DiigaAl",
        "outputId": "8e2fcea6-eae7-4f55-92ac-197f00109ecd"
      },
      "execution_count": 26,
      "outputs": [
        {
          "output_type": "execute_result",
          "data": {
            "text/plain": [
              "tensor([[ 4., -2.],\n",
              "        [ 2.,  2.]])"
            ]
          },
          "metadata": {},
          "execution_count": 26
        }
      ]
    },
    {
      "cell_type": "code",
      "source": [
        "x=torch.rand(1,6400)\n",
        "y=torch.rand(6400,5000)\n",
        "y"
      ],
      "metadata": {
        "colab": {
          "base_uri": "https://localhost:8080/"
        },
        "id": "5CgqMhV4gdjm",
        "outputId": "8801a7ef-50c7-4fbe-b68b-139478513b83"
      },
      "execution_count": 27,
      "outputs": [
        {
          "output_type": "execute_result",
          "data": {
            "text/plain": [
              "tensor([[0.9088, 0.7414, 0.2887,  ..., 0.0616, 0.3984, 0.8231],\n",
              "        [0.1415, 0.7217, 0.1424,  ..., 0.3374, 0.8207, 0.0931],\n",
              "        [0.5088, 0.9160, 0.5315,  ..., 0.7339, 0.5858, 0.4003],\n",
              "        ...,\n",
              "        [0.2542, 0.0986, 0.7845,  ..., 0.8516, 0.4189, 0.1872],\n",
              "        [0.6245, 0.4473, 0.1868,  ..., 0.3531, 0.8913, 0.7867],\n",
              "        [0.9730, 0.6815, 0.4125,  ..., 0.5212, 0.3539, 0.9888]])"
            ]
          },
          "metadata": {},
          "execution_count": 27
        }
      ]
    },
    {
      "cell_type": "code",
      "source": [
        "device='cuda'if torch.cuda.is_available() else 'cpu'\n",
        "x,y=x.to(device),y.to(device)\n"
      ],
      "metadata": {
        "id": "MQ3U1ALmiaG0"
      },
      "execution_count": 28,
      "outputs": []
    },
    {
      "cell_type": "code",
      "source": [
        "%timeit z=(x@y)"
      ],
      "metadata": {
        "colab": {
          "base_uri": "https://localhost:8080/"
        },
        "id": "CbzozRA0jHgA",
        "outputId": "aa497251-2690-4d2b-b25a-0b1fc0d84e5a"
      },
      "execution_count": 29,
      "outputs": [
        {
          "output_type": "stream",
          "name": "stdout",
          "text": [
            "20.9 ms ± 5.73 ms per loop (mean ± std. dev. of 7 runs, 10 loops each)\n"
          ]
        }
      ]
    },
    {
      "cell_type": "markdown",
      "source": [
        "#***Building neural network using PyTorch***"
      ],
      "metadata": {
        "id": "BmDayC-QGbh0"
      }
    },
    {
      "cell_type": "code",
      "source": [
        "import torch\n",
        "x=[[1,2],[3,4],[5,6],[7,8]]\n",
        "y=[[3],[7],[11],[15]]\n",
        "X=torch.tensor(x).float()\n",
        "Y=torch.tensor(y).float()\n"
      ],
      "metadata": {
        "id": "h65YG-ZDqtdL"
      },
      "execution_count": 30,
      "outputs": []
    },
    {
      "cell_type": "code",
      "source": [
        "device='cuda' if torch.cuda.is_available() else 'cpu'\n",
        "X,Y=X.to(device),Y.to(device)\n"
      ],
      "metadata": {
        "id": "WonicCjwE_tl"
      },
      "execution_count": 31,
      "outputs": []
    },
    {
      "cell_type": "code",
      "source": [
        "import torch.nn as nn\n",
        "class MyNeuralNet(nn.Module):\n",
        "  def __init__(self):\n",
        "    super().__init__()\n",
        "    self.input_to_hidden_layer=nn.Linear(2,8)\n",
        "    self.hidden_layer_activation=nn.ReLU()\n",
        "    self.hidden_to_output_layer=nn.Linear(8,1) # Changed from 5 to 8\n",
        "\n",
        "  def forward(self,x):\n",
        "    x=self.input_to_hidden_layer(x)\n",
        "    x=self.hidden_layer_activation(x)\n",
        "    x=self.hidden_to_output_layer(x)\n",
        "    return x"
      ],
      "metadata": {
        "id": "uq1sZqSbFQ5r"
      },
      "execution_count": 32,
      "outputs": []
    },
    {
      "cell_type": "code",
      "source": [
        "print(nn.Linear(2,7))"
      ],
      "metadata": {
        "colab": {
          "base_uri": "https://localhost:8080/"
        },
        "id": "VqxHgWC4G8To",
        "outputId": "93cda608-c8c7-48ba-cc3c-29ebeb617d3b"
      },
      "execution_count": 33,
      "outputs": [
        {
          "output_type": "stream",
          "name": "stdout",
          "text": [
            "Linear(in_features=2, out_features=7, bias=True)\n"
          ]
        }
      ]
    },
    {
      "cell_type": "code",
      "source": [
        "mynet=MyNeuralNet().to(device)"
      ],
      "metadata": {
        "id": "daayFyThIXPl"
      },
      "execution_count": 34,
      "outputs": []
    },
    {
      "cell_type": "code",
      "source": [
        "mynet.input_to_hidden_layer.weight"
      ],
      "metadata": {
        "colab": {
          "base_uri": "https://localhost:8080/"
        },
        "id": "YRjg47gVIc8p",
        "outputId": "62e9a19f-9031-4a14-f7af-6291747d8c62"
      },
      "execution_count": 35,
      "outputs": [
        {
          "output_type": "execute_result",
          "data": {
            "text/plain": [
              "Parameter containing:\n",
              "tensor([[ 0.2492,  0.0476],\n",
              "        [-0.3635,  0.0305],\n",
              "        [ 0.0208,  0.0611],\n",
              "        [-0.3712, -0.3111],\n",
              "        [-0.5287,  0.6484],\n",
              "        [ 0.0832, -0.6971],\n",
              "        [-0.5060, -0.0577],\n",
              "        [-0.0794,  0.0888]], requires_grad=True)"
            ]
          },
          "metadata": {},
          "execution_count": 35
        }
      ]
    },
    {
      "cell_type": "code",
      "source": [
        "mynet.parameters()\n",
        "for par in mynet.parameters():\n",
        "  print(par)"
      ],
      "metadata": {
        "colab": {
          "base_uri": "https://localhost:8080/"
        },
        "id": "8KojKumhIr2E",
        "outputId": "d9562fe1-0a8c-40cd-bcc8-9ecfce4ca4d9"
      },
      "execution_count": 36,
      "outputs": [
        {
          "output_type": "stream",
          "name": "stdout",
          "text": [
            "Parameter containing:\n",
            "tensor([[ 0.2492,  0.0476],\n",
            "        [-0.3635,  0.0305],\n",
            "        [ 0.0208,  0.0611],\n",
            "        [-0.3712, -0.3111],\n",
            "        [-0.5287,  0.6484],\n",
            "        [ 0.0832, -0.6971],\n",
            "        [-0.5060, -0.0577],\n",
            "        [-0.0794,  0.0888]], requires_grad=True)\n",
            "Parameter containing:\n",
            "tensor([ 0.1596,  0.5339,  0.1452,  0.0074, -0.6879,  0.2799,  0.2891, -0.5745],\n",
            "       requires_grad=True)\n",
            "Parameter containing:\n",
            "tensor([[ 0.3261, -0.0180, -0.2397,  0.2872,  0.2046,  0.1799,  0.0347, -0.0921]],\n",
            "       requires_grad=True)\n",
            "Parameter containing:\n",
            "tensor([0.2907], requires_grad=True)\n"
          ]
        }
      ]
    },
    {
      "cell_type": "code",
      "source": [
        "loss_fn=nn.MSELoss()"
      ],
      "metadata": {
        "id": "OCq9egxPBrIT"
      },
      "execution_count": 37,
      "outputs": []
    },
    {
      "cell_type": "code",
      "source": [
        "_Y=mynet(X)\n",
        "loss_value=loss_fn(_Y,Y)\n",
        "loss_value"
      ],
      "metadata": {
        "colab": {
          "base_uri": "https://localhost:8080/"
        },
        "id": "Wo9K9AbACLjr",
        "outputId": "3cc88025-10de-4fae-98d9-eccde78d2ecc"
      },
      "execution_count": 38,
      "outputs": [
        {
          "output_type": "execute_result",
          "data": {
            "text/plain": [
              "tensor(86.7917, grad_fn=<MseLossBackward0>)"
            ]
          },
          "metadata": {},
          "execution_count": 38
        }
      ]
    },
    {
      "cell_type": "code",
      "source": [
        "from torch.optim import SGD\n",
        "optimizer=SGD(mynet.parameters(),lr=0.001)"
      ],
      "metadata": {
        "id": "UazQAMMtCro3"
      },
      "execution_count": 39,
      "outputs": []
    },
    {
      "cell_type": "code",
      "source": [
        "optimizer.zero_grad()#flusing previous gradient\n",
        "loss_value=loss_fn(mynet(X),Y)\n",
        "loss_value.backward()\n",
        "optimizer.step()"
      ],
      "metadata": {
        "id": "-kJ9XEytD6FQ"
      },
      "execution_count": 40,
      "outputs": []
    },
    {
      "cell_type": "code",
      "source": [
        "loss_history=[]\n",
        "for i in range(50):\n",
        "  optimizer.zero_grad()\n",
        "  loss_value=loss_fn(mynet(X),Y)\n",
        "  loss_value.backward()\n",
        "  optimizer.step()\n",
        "  loss_history.append(loss_value.item())"
      ],
      "metadata": {
        "id": "SdgmlyjLGB_-"
      },
      "execution_count": 41,
      "outputs": []
    },
    {
      "cell_type": "code",
      "source": [
        "import matplotlib.pyplot as plt\n",
        "%matplotlib inline\n",
        "plt.plot(loss_history)\n",
        "plt.title('Loss variation over increasing epochs')\n",
        "plt.xlabel('epochs')\n",
        "plt.ylabel('loss value')\n"
      ],
      "metadata": {
        "colab": {
          "base_uri": "https://localhost:8080/",
          "height": 489
        },
        "id": "Jjf4upezHOOe",
        "outputId": "3c35ca37-f137-4b78-8adf-701440d59b38"
      },
      "execution_count": 42,
      "outputs": [
        {
          "output_type": "execute_result",
          "data": {
            "text/plain": [
              "Text(0, 0.5, 'loss value')"
            ]
          },
          "metadata": {},
          "execution_count": 42
        },
        {
          "output_type": "display_data",
          "data": {
            "text/plain": [
              "<Figure size 640x480 with 1 Axes>"
            ],
            "image/png": "[encoded data removed]"
          },
          "metadata": {}
        }
      ]
    },
    {
      "cell_type": "code",
      "source": [
        "from torch.utils.data import Dataset, DataLoader\n",
        "import torch\n",
        "import torch.nn as nn\n",
        "\n",
        "x=[[1,2],[3,4],[5,6],[7,8]]\n",
        "y=[[3],[7],[11],[15]]"
      ],
      "metadata": {
        "id": "kBxmAoPEHkob"
      },
      "execution_count": 43,
      "outputs": []
    },
    {
      "cell_type": "code",
      "source": [
        "X=torch.tensor(x).float()\n",
        "Y=torch.tensor(y).float()\n",
        "device='cuda' if torch.cuda.is_available() else 'cpu'\n",
        "X=X.to(device)\n",
        "Y=Y.to(device)"
      ],
      "metadata": {
        "id": "I4Wayl0NI7Di"
      },
      "execution_count": 44,
      "outputs": []
    },
    {
      "cell_type": "code",
      "source": [
        "class MyDataSet(Dataset):\n",
        "  def __init__(self,x,y):\n",
        "    self.x=torch.tensor(x).float()\n",
        "    self.y=torch.tensor(y).float()\n",
        "\n",
        "  def __len__(self):\n",
        "    return len(self.x)\n",
        "\n",
        "  #used to fetch specific row\n",
        "  def __getitem__(self, index):\n",
        "    return self.x[index],self.y[index]\n",
        "\n"
      ],
      "metadata": {
        "id": "bmwgvnaLJawr"
      },
      "execution_count": 45,
      "outputs": []
    },
    {
      "cell_type": "code",
      "source": [
        "ds=MyDataSet(X,Y)"
      ],
      "metadata": {
        "colab": {
          "base_uri": "https://localhost:8080/"
        },
        "id": "NxckQ0S9KwFO",
        "outputId": "d1d5f5fa-fba8-4e47-a6e6-f6a6ecdb890f"
      },
      "execution_count": 46,
      "outputs": [
        {
          "output_type": "stream",
          "name": "stderr",
          "text": [
            "/tmp/ipython-input-214804479.py:3: UserWarning: To copy construct from a tensor, it is recommended to use sourceTensor.detach().clone() or sourceTensor.detach().clone().requires_grad_(True), rather than torch.tensor(sourceTensor).\n",
            "  self.x=torch.tensor(x).float()\n",
            "/tmp/ipython-input-214804479.py:4: UserWarning: To copy construct from a tensor, it is recommended to use sourceTensor.detach().clone() or sourceTensor.detach().clone().requires_grad_(True), rather than torch.tensor(sourceTensor).\n",
            "  self.y=torch.tensor(y).float()\n"
          ]
        }
      ]
    },
    {
      "cell_type": "code",
      "source": [
        "d1=DataLoader(ds,batch_size=2,shuffle=True)"
      ],
      "metadata": {
        "id": "chabPy2HK1s0"
      },
      "execution_count": 47,
      "outputs": []
    },
    {
      "cell_type": "code",
      "source": [
        "for x,y in d1:\n",
        "  print(x,y)"
      ],
      "metadata": {
        "colab": {
          "base_uri": "https://localhost:8080/"
        },
        "id": "yk9atsjxLdEv",
        "outputId": "67c33c28-f4c9-42a4-bd4f-417f40842cc4"
      },
      "execution_count": 48,
      "outputs": [
        {
          "output_type": "stream",
          "name": "stdout",
          "text": [
            "tensor([[1., 2.],\n",
            "        [5., 6.]]) tensor([[ 3.],\n",
            "        [11.]])\n",
            "tensor([[7., 8.],\n",
            "        [3., 4.]]) tensor([[15.],\n",
            "        [ 7.]])\n"
          ]
        }
      ]
    },
    {
      "cell_type": "code",
      "source": [
        "class MyNeuralNet(nn.Module):\n",
        "  def __init__(self):\n",
        "    super().__init__()\n",
        "    self.input_to_hidden_layer=nn.Linear(2,8)\n",
        "    self.hidden_layer_activation=nn.ReLU()\n",
        "    self.hidden_to_output_layer=nn.Linear(8,1)\n",
        "\n",
        "  def forward(self,x):\n",
        "    x=self.input_to_hidden_layer(x)\n",
        "    x=self.hidden_layer_activation(x)\n",
        "    x=self.hidden_to_output_layer(x)\n",
        "    return x"
      ],
      "metadata": {
        "id": "oaBvnCD0Lpyr"
      },
      "execution_count": 49,
      "outputs": []
    },
    {
      "cell_type": "code",
      "source": [
        "mynet=MyNeuralNet().to(device)\n",
        "loss_fn=nn.MSELoss()\n",
        "from torch.optim import SGD\n",
        "optimizer=SGD(mynet.parameters(),lr=0.001)"
      ],
      "metadata": {
        "id": "CR3QaMUqMx43"
      },
      "execution_count": 50,
      "outputs": []
    },
    {
      "cell_type": "code",
      "source": [
        "import time\n",
        "start=time.time()\n",
        "loss_history=[]\n",
        "for _ in range(50):\n",
        "  for data in d1:\n",
        "    x,y=data\n",
        "    optimizer.zero_grad()\n",
        "    loss_value=loss_fn(mynet(x),y)\n",
        "    loss_value.backward()\n",
        "    optimizer.step()\n",
        "    loss_history.append(loss_value.item())\n",
        "end=time.time()\n",
        "print(end-start)"
      ],
      "metadata": {
        "colab": {
          "base_uri": "https://localhost:8080/"
        },
        "id": "RaYAsNjYNdo-",
        "outputId": "f6f8c844-daf6-4ddd-df1c-5d03f909ba20"
      },
      "execution_count": 51,
      "outputs": [
        {
          "output_type": "stream",
          "name": "stdout",
          "text": [
            "0.07239770889282227\n"
          ]
        }
      ]
    },
    {
      "cell_type": "code",
      "source": [
        "val_x=[[10,11]]\n",
        "val_x=torch.tensor(val_x).float()\n",
        "val_x=torch.tensor(val_x).to(device)"
      ],
      "metadata": {
        "colab": {
          "base_uri": "https://localhost:8080/"
        },
        "id": "pI4yyZ3YOdTT",
        "outputId": "88113039-a2e2-4b82-9444-a3e316f11488"
      },
      "execution_count": 52,
      "outputs": [
        {
          "output_type": "stream",
          "name": "stderr",
          "text": [
            "/tmp/ipython-input-297714462.py:3: UserWarning: To copy construct from a tensor, it is recommended to use sourceTensor.detach().clone() or sourceTensor.detach().clone().requires_grad_(True), rather than torch.tensor(sourceTensor).\n",
            "  val_x=torch.tensor(val_x).to(device)\n"
          ]
        }
      ]
    },
    {
      "cell_type": "code",
      "source": [
        "mynet(val_x)"
      ],
      "metadata": {
        "colab": {
          "base_uri": "https://localhost:8080/"
        },
        "id": "Tf5jbDA7P5Ff",
        "outputId": "93aacb4e-75a1-4ac2-b5b1-0d1a9a0e20f6"
      },
      "execution_count": 53,
      "outputs": [
        {
          "output_type": "execute_result",
          "data": {
            "text/plain": [
              "tensor([[21.4910]], grad_fn=<AddmmBackward0>)"
            ]
          },
          "metadata": {},
          "execution_count": 53
        }
      ]
    },
    {
      "cell_type": "markdown",
      "source": [
        "#***Implementing a custom loss function***"
      ],
      "metadata": {
        "id": "HsATqSWSVqRf"
      }
    },
    {
      "cell_type": "code",
      "source": [
        "x=[[1,2],[3,4],[5,6],[7,8]]\n",
        "y=[[3],[7],[11],[15]]\n",
        "import torch\n",
        "X=torch.tensor(x).float()\n",
        "Y=torch.tensor(y).float()\n",
        "device='cuda' if torch.cuda.is_available() else 'cpu'\n",
        "X=X.to(device)\n",
        "Y=Y.to(device)\n",
        "from torch.utils.data import Dataset, DataLoader\n",
        "import torch\n",
        "import torch.nn as nn\n"
      ],
      "metadata": {
        "id": "Nqkcn_j-VXeB"
      },
      "execution_count": 54,
      "outputs": []
    },
    {
      "cell_type": "code",
      "source": [
        "class MyDataSet(Dataset):\n",
        "  def __init__(self,x,y):\n",
        "    self.x=torch.tensor(x).float()\n",
        "    self.y=torch.tensor(y).float()\n",
        "\n",
        "  def __len__(self):\n",
        "    return len(self.x)\n",
        "\n",
        "  def __getitem__(self,index):\n",
        "    return self.x[index],self.y[index]"
      ],
      "metadata": {
        "id": "ocf4_g-3WHOu"
      },
      "execution_count": 55,
      "outputs": []
    },
    {
      "cell_type": "code",
      "source": [
        "ds=MyDataSet(X,Y)\n",
        "d1=DataLoader(ds,batch_size=2,shuffle=True)"
      ],
      "metadata": {
        "colab": {
          "base_uri": "https://localhost:8080/"
        },
        "id": "7a44ToZGXkjM",
        "outputId": "0c9454d5-e16b-47aa-e8e9-89b2ac5b9e8e"
      },
      "execution_count": 56,
      "outputs": [
        {
          "output_type": "stream",
          "name": "stderr",
          "text": [
            "/tmp/ipython-input-1319168801.py:3: UserWarning: To copy construct from a tensor, it is recommended to use sourceTensor.detach().clone() or sourceTensor.detach().clone().requires_grad_(True), rather than torch.tensor(sourceTensor).\n",
            "  self.x=torch.tensor(x).float()\n",
            "/tmp/ipython-input-1319168801.py:4: UserWarning: To copy construct from a tensor, it is recommended to use sourceTensor.detach().clone() or sourceTensor.detach().clone().requires_grad_(True), rather than torch.tensor(sourceTensor).\n",
            "  self.y=torch.tensor(y).float()\n"
          ]
        }
      ]
    },
    {
      "cell_type": "code",
      "source": [
        "class MyNeuralNet(nn.Module):\n",
        "  def __init__(self):\n",
        "    super().__init__()\n",
        "    self.input_to_hidden_layer=nn.Linear(2,8)\n",
        "    self.hidden_layer_activation=nn.ReLU()\n",
        "    self.hidden_to_output_layer=nn.Linear(8,1)\n",
        "\n",
        "  def forward(self,x):\n",
        "    x=self.input_to_hidden_layer(x)\n",
        "    x=self.hidden_layer_activation(x)\n",
        "    x=self.hidden_to_output_layer(x)\n",
        "    return x"
      ],
      "metadata": {
        "id": "2rAj6RlHYHPH"
      },
      "execution_count": 57,
      "outputs": []
    },
    {
      "cell_type": "code",
      "source": [
        "mynet=MyNeuralNet().to(device)"
      ],
      "metadata": {
        "id": "V1YFVNXXYNa2"
      },
      "execution_count": 58,
      "outputs": []
    },
    {
      "cell_type": "code",
      "source": [
        "def my_mean_square(_Y,Y):\n",
        "  loss=(_Y-Y)**2\n",
        "  loss=loss.mean()\n",
        "  return loss"
      ],
      "metadata": {
        "id": "8n93JyDUYfcY"
      },
      "execution_count": 59,
      "outputs": []
    },
    {
      "cell_type": "code",
      "source": [
        "loss_fn=nn.MSELoss()\n",
        "loss_value=loss_fn(mynet(X),Y)\n",
        "print(loss_value)"
      ],
      "metadata": {
        "colab": {
          "base_uri": "https://localhost:8080/"
        },
        "id": "MYB2hyXxYxgv",
        "outputId": "85f884ee-101f-4fa3-d79d-8665afb57af3"
      },
      "execution_count": 60,
      "outputs": [
        {
          "output_type": "stream",
          "name": "stdout",
          "text": [
            "tensor(91.5353, grad_fn=<MseLossBackward0>)\n"
          ]
        }
      ]
    },
    {
      "cell_type": "code",
      "source": [
        "loss_value=my_mean_square(mynet(X),Y)\n",
        "print(loss_value)"
      ],
      "metadata": {
        "colab": {
          "base_uri": "https://localhost:8080/"
        },
        "id": "OsZ4HW6xZYvG",
        "outputId": "2cba7ed9-e813-4486-fc91-5ed03c131436"
      },
      "execution_count": 61,
      "outputs": [
        {
          "output_type": "stream",
          "name": "stdout",
          "text": [
            "tensor(91.5353, grad_fn=<MeanBackward0>)\n"
          ]
        }
      ]
    },
    {
      "cell_type": "markdown",
      "source": [
        "#***Fetching the value of Intermediate Layers***"
      ],
      "metadata": {
        "id": "bCOR04W9Z2id"
      }
    },
    {
      "cell_type": "code",
      "source": [
        "input_to_hidden=mynet.input_to_hidden_layer(X)\n",
        "hidden_activation=mynet.hidden_layer_activation(input_to_hidden)\n",
        "print(hidden_activation)"
      ],
      "metadata": {
        "colab": {
          "base_uri": "https://localhost:8080/"
        },
        "id": "sl2tAgRbZkSE",
        "outputId": "c98eb9e6-efb9-459f-b405-343a749a7791"
      },
      "execution_count": 62,
      "outputs": [
        {
          "output_type": "stream",
          "name": "stdout",
          "text": [
            "tensor([[0.5604, 0.0000, 0.0000, 0.0000, 1.1613, 0.0000, 0.0724, 0.0000],\n",
            "        [0.6512, 0.0000, 0.0000, 0.0000, 2.2898, 0.0000, 0.2052, 0.0000],\n",
            "        [0.7421, 0.0000, 0.0000, 0.0000, 3.4183, 0.0000, 0.3379, 0.0000],\n",
            "        [0.8329, 0.0000, 0.0000, 0.0000, 4.5468, 0.0000, 0.4707, 0.0000]],\n",
            "       grad_fn=<ReluBackward0>)\n"
          ]
        }
      ]
    },
    {
      "cell_type": "code",
      "source": [
        "class MyNeuralNet(nn.Module):\n",
        "  def __init__(self):\n",
        "    super().__init__()\n",
        "    self.input_to_hidden_layer=nn.Linear(2,8)\n",
        "    self.hidden_layer_activation=nn.ReLU()\n",
        "    self.hidden_to_output_layer=nn.Linear(8,1)\n",
        "\n",
        "  def forward(self,x):\n",
        "    hidden_1=self.input_to_hidden_layer(x)\n",
        "    hidden_2=self.hidden_layer_activation(hidden_1)\n",
        "    output=self.hidden_to_output_layer(hidden_2)\n",
        "    return output,hidden_2"
      ],
      "metadata": {
        "id": "TXcU3ZaXa03N"
      },
      "execution_count": 63,
      "outputs": []
    },
    {
      "cell_type": "code",
      "source": [
        "mynet=MyNeuralNet().to(device)\n",
        "mynet(X)[1]"
      ],
      "metadata": {
        "colab": {
          "base_uri": "https://localhost:8080/"
        },
        "id": "b9MUxBcAb3Ef",
        "outputId": "df0eb538-6dea-4592-b457-729d56251a18"
      },
      "execution_count": 64,
      "outputs": [
        {
          "output_type": "execute_result",
          "data": {
            "text/plain": [
              "tensor([[1.2420, 0.2368, 1.7296, 0.7157, 0.0000, 1.6763, 0.4313, 0.0000],\n",
              "        [1.8536, 0.0000, 3.3183, 2.3208, 0.0000, 2.7238, 0.9776, 0.0000],\n",
              "        [2.4651, 0.0000, 4.9070, 3.9258, 0.0000, 3.7712, 1.5238, 0.0000],\n",
              "        [3.0767, 0.0000, 6.4957, 5.5309, 0.0000, 4.8187, 2.0700, 0.0000]],\n",
              "       grad_fn=<ReluBackward0>)"
            ]
          },
          "metadata": {},
          "execution_count": 64
        }
      ]
    },
    {
      "cell_type": "markdown",
      "source": [
        "#***Using a Sequential method to build a Neural Network***"
      ],
      "metadata": {
        "id": "Mn0_WYHNeVg8"
      }
    },
    {
      "cell_type": "code",
      "source": [
        "x=[[1,2],[3,4],[5,6],[7,8]]\n",
        "y=[[3],[7],[11],[15]]"
      ],
      "metadata": {
        "id": "7axpZvSrcQXD"
      },
      "execution_count": 65,
      "outputs": []
    },
    {
      "cell_type": "code",
      "source": [
        "import torch\n",
        "import torch.nn as nn\n",
        "import numpy as np\n",
        "from torch.utils.data import Dataset,DataLoader\n",
        "device='cuda' if torch.cuda.is_available() else 'cpu'"
      ],
      "metadata": {
        "id": "V3zcBKvuelb-"
      },
      "execution_count": 66,
      "outputs": []
    },
    {
      "cell_type": "code",
      "source": [
        "class MyDataSet(Dataset):\n",
        "  def __init__(self,x,y):\n",
        "    self.x=torch.tensor(x).float()\n",
        "    self.y=torch.tensor(y).float()\n",
        "\n",
        "  def __len__(self):\n",
        "    return len(self.x)\n",
        "\n",
        "  def __getitem__(self,index):\n",
        "    return self.x[index],self.y[index]"
      ],
      "metadata": {
        "id": "6R7SzPgVfSJb"
      },
      "execution_count": 67,
      "outputs": []
    },
    {
      "cell_type": "code",
      "source": [
        "ds=MyDataSet(X,Y)\n",
        "d1=DataLoader(ds,batch_size=2,shuffle=True)"
      ],
      "metadata": {
        "colab": {
          "base_uri": "https://localhost:8080/"
        },
        "id": "nrEhAiwWfgUs",
        "outputId": "0c04847f-66a0-4901-df94-d506f7a92d50"
      },
      "execution_count": 68,
      "outputs": [
        {
          "output_type": "stream",
          "name": "stderr",
          "text": [
            "/tmp/ipython-input-1319168801.py:3: UserWarning: To copy construct from a tensor, it is recommended to use sourceTensor.detach().clone() or sourceTensor.detach().clone().requires_grad_(True), rather than torch.tensor(sourceTensor).\n",
            "  self.x=torch.tensor(x).float()\n",
            "/tmp/ipython-input-1319168801.py:4: UserWarning: To copy construct from a tensor, it is recommended to use sourceTensor.detach().clone() or sourceTensor.detach().clone().requires_grad_(True), rather than torch.tensor(sourceTensor).\n",
            "  self.y=torch.tensor(y).float()\n"
          ]
        }
      ]
    },
    {
      "cell_type": "code",
      "source": [
        "model=nn.Sequential(\n",
        "    nn.Linear(2,8),\n",
        "    nn.ReLU(),\n",
        "    nn.Linear(8,1)\n",
        ").to(device)"
      ],
      "metadata": {
        "id": "tzzskzJ8fqRK"
      },
      "execution_count": 69,
      "outputs": []
    },
    {
      "cell_type": "code",
      "source": [
        "from torchsummary import summary\n",
        "summary(model, (1,2))"
      ],
      "metadata": {
        "colab": {
          "base_uri": "https://localhost:8080/"
        },
        "id": "Iy90IpSLgful",
        "outputId": "9337276d-6f9c-4965-f1ea-cf7d04d37357"
      },
      "execution_count": 70,
      "outputs": [
        {
          "output_type": "stream",
          "name": "stdout",
          "text": [
            "----------------------------------------------------------------\n",
            "        Layer (type)               Output Shape         Param #\n",
            "================================================================\n",
            "            Linear-1                 [-1, 1, 8]              24\n",
            "              ReLU-2                 [-1, 1, 8]               0\n",
            "            Linear-3                 [-1, 1, 1]               9\n",
            "================================================================\n",
            "Total params: 33\n",
            "Trainable params: 33\n",
            "Non-trainable params: 0\n",
            "----------------------------------------------------------------\n",
            "Input size (MB): 0.00\n",
            "Forward/backward pass size (MB): 0.00\n",
            "Params size (MB): 0.00\n",
            "Estimated Total Size (MB): 0.00\n",
            "----------------------------------------------------------------\n"
          ]
        }
      ]
    },
    {
      "cell_type": "code",
      "source": [
        "loss_fn=nn.MSELoss()\n",
        "from torch.optim import SGD\n",
        "optimizer=SGD(model.parameters(),lr=0.001)\n",
        "\n",
        "loss_history=[]\n",
        "start=time.time()\n",
        "for _ in range(50):\n",
        "  for x,y in d1:\n",
        "    optimizer.zero_grad()\n",
        "    loss_value=loss_fn(model(X),Y)\n",
        "    loss_value.backward()\n",
        "    optimizer.step()\n",
        "    loss_history.append(loss_value.item())\n",
        "end=time.time()\n",
        "print(end-start)\n"
      ],
      "metadata": {
        "id": "bjr4mYkmiljc",
        "colab": {
          "base_uri": "https://localhost:8080/"
        },
        "outputId": "e88857dd-25c8-4793-a452-d7736c7f00d4"
      },
      "execution_count": 71,
      "outputs": [
        {
          "output_type": "stream",
          "name": "stdout",
          "text": [
            "0.07254958152770996\n"
          ]
        }
      ]
    },
    {
      "cell_type": "code",
      "source": [
        "val=[[8,9],[10,11],[1.5,2.5]]"
      ],
      "metadata": {
        "id": "-ASL-RBWH14Q"
      },
      "execution_count": 73,
      "outputs": []
    },
    {
      "cell_type": "code",
      "source": [
        "model(torch.tensor(val).float().to(device))"
      ],
      "metadata": {
        "colab": {
          "base_uri": "https://localhost:8080/"
        },
        "id": "WQO0QhLMIa0J",
        "outputId": "2c39638b-f264-4c76-b032-049439473f24"
      },
      "execution_count": 74,
      "outputs": [
        {
          "output_type": "execute_result",
          "data": {
            "text/plain": [
              "tensor([[16.7232],\n",
              "        [20.4965],\n",
              "        [ 4.3140]], grad_fn=<AddmmBackward0>)"
            ]
          },
          "metadata": {},
          "execution_count": 74
        }
      ]
    },
    {
      "cell_type": "code",
      "source": [
        "model.state_dict()"
      ],
      "metadata": {
        "colab": {
          "base_uri": "https://localhost:8080/"
        },
        "id": "ss7JyUpLI1aR",
        "outputId": "45741757-1143-4ea8-e60d-8d4fe0ba0be0"
      },
      "execution_count": 75,
      "outputs": [
        {
          "output_type": "execute_result",
          "data": {
            "text/plain": [
              "OrderedDict([('0.weight',\n",
              "              tensor([[-0.0318, -0.4914],\n",
              "                      [ 0.4102,  0.1231],\n",
              "                      [ 0.6858,  0.8285],\n",
              "                      [ 0.4536,  0.1522],\n",
              "                      [ 0.0207,  0.0581],\n",
              "                      [ 0.1885,  0.4414],\n",
              "                      [-0.1576, -0.4861],\n",
              "                      [-0.2051, -0.6848]])),\n",
              "             ('0.bias',\n",
              "              tensor([ 0.6862,  0.2674, -0.0607,  0.5824, -0.6315,  0.2055, -0.1776, -0.4603])),\n",
              "             ('2.weight',\n",
              "              tensor([[-0.0441,  0.0540,  0.9140,  0.4764, -0.3205,  0.3343,  0.0342, -0.2067]])),\n",
              "             ('2.bias', tensor([0.1571]))])"
            ]
          },
          "metadata": {},
          "execution_count": 75
        }
      ]
    },
    {
      "cell_type": "code",
      "source": [
        "torch.save(model.to('cpu').state_dict(),'mymodel.pth')"
      ],
      "metadata": {
        "id": "D9yIP4XLLuB_"
      },
      "execution_count": 77,
      "outputs": []
    },
    {
      "cell_type": "markdown",
      "source": [
        "#***Loading a model would require us to initialize the model with the random weights first and then load the model from state_dict***"
      ],
      "metadata": {
        "id": "4BG6jPE1MKxR"
      }
    },
    {
      "cell_type": "code",
      "source": [
        "model=nn.Sequential(\n",
        "    nn.Linear(2,8),\n",
        "    nn.ReLU(),\n",
        "    nn.Linear(8,1)\n",
        ").to(device)"
      ],
      "metadata": {
        "id": "M_alq4LAMFnv"
      },
      "execution_count": 78,
      "outputs": []
    },
    {
      "cell_type": "code",
      "source": [
        "state_dict=torch.load('mymodel.pth')"
      ],
      "metadata": {
        "id": "ROG7EwdyNr-O"
      },
      "execution_count": 79,
      "outputs": []
    },
    {
      "cell_type": "code",
      "source": [
        "model.load_state_dict(state_dict)\n",
        "model.to(device)\n",
        "model(torch.tensor(val).float().to(device))"
      ],
      "metadata": {
        "colab": {
          "base_uri": "https://localhost:8080/"
        },
        "id": "YTanRV5AOIAZ",
        "outputId": "62433440-6b57-447f-a62a-9788345e25d7"
      },
      "execution_count": 80,
      "outputs": [
        {
          "output_type": "execute_result",
          "data": {
            "text/plain": [
              "tensor([[16.7232],\n",
              "        [20.4965],\n",
              "        [ 4.3140]], grad_fn=<AddmmBackward0>)"
            ]
          },
          "metadata": {},
          "execution_count": 80
        }
      ]
    }
  ]
}