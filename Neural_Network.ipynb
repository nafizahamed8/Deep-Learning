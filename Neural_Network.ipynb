{
  "nbformat": 4,
  "nbformat_minor": 0,
  "metadata": {
    "colab": {
      "provenance": [],
      "authorship_tag": "ABX9TyMv6mT64qTaAEKFC1rnt9r5",
      "include_colab_link": true
    },
    "kernelspec": {
      "name": "python3",
      "display_name": "Python 3"
    },
    "language_info": {
      "name": "python"
    }
  },
  "cells": [
    {
      "cell_type": "markdown",
      "metadata": {
        "id": "view-in-github",
        "colab_type": "text"
      },
      "source": [
        "<a href=\"https://colab.research.google.com/github/nafizahamed8/Deep-Learning/blob/main/Neural_Network.ipynb\" target=\"_parent\"><img src=\"https://colab.research.google.com/assets/colab-badge.svg\" alt=\"Open In Colab\"/></a>"
      ]
    },
    {
      "cell_type": "markdown",
      "source": [
        "#***FeedForward Propogation***"
      ],
      "metadata": {
        "id": "9M8xZz-eUFNA"
      }
    },
    {
      "cell_type": "code",
      "execution_count": null,
      "metadata": {
        "id": "-Pe_MzlkTFP2"
      },
      "outputs": [],
      "source": [
        "import numpy as np\n",
        "def feed_forward(inputs,outputs,weights):\n",
        "  pre_hidden=np.dot(inputs,weights[0]+weights[1])\n",
        "  hidden=1/(1+np.exp(-pre_hidden))#applying sigmoid value in hidden layer\n",
        "  pred_out=np.dot(hidden,weights[2]+weights[3])\n",
        "  mean_squared_error=np.mean(np.square(pred_out-outputs))\n",
        "  return mean_squared_error"
      ]
    },
    {
      "cell_type": "markdown",
      "source": [
        "#***Activation Function in Code***"
      ],
      "metadata": {
        "id": "m6dHhYUKWYxZ"
      }
    },
    {
      "cell_type": "code",
      "source": [
        "def tanh(x):\n",
        "  return (np.exp(x)-np.exp(-x))/(np.exp(x)+np.exp(-x))\n",
        "def relu(x):\n",
        "  return np.where(x>0,x,0)\n",
        "def linear(x):\n",
        "  return x\n",
        "def softmax(x):\n",
        "  return np.exp(x)/np.sum(np.exp(x))"
      ],
      "metadata": {
        "id": "AVz6AW83WX3R"
      },
      "execution_count": null,
      "outputs": []
    },
    {
      "cell_type": "markdown",
      "source": [
        "#***loss function in code***"
      ],
      "metadata": {
        "id": "eZdLUEVQn2To"
      }
    },
    {
      "cell_type": "code",
      "source": [
        "def mse(p,y):\n",
        "  return np.mean(np.square(p-y))\n",
        "\n",
        "def mae(p,y):\n",
        "  return np.mean(np.square(np.abs(p-y)))\n",
        "\n",
        "def binary_cross_entropy(p,y):\n",
        "  return -np.mean(y*np.log(p)+(1-y)*np.log(1-p))\n",
        "\n",
        "def categorical_cross_entropy(p,y):\n",
        "  return -np.mean(np.log(p[np.arange(len(y)),y]))"
      ],
      "metadata": {
        "id": "sZI9zfo0Yo4V"
      },
      "execution_count": null,
      "outputs": []
    },
    {
      "cell_type": "markdown",
      "source": [
        "#***gradient descent in code***"
      ],
      "metadata": {
        "id": "jncibE0xKTbK"
      }
    },
    {
      "cell_type": "code",
      "source": [
        "from copy import deepcopy\n",
        "def feed_forward(inputs,outputs,weights):\n",
        "  pre_hidden=np.dot(inputs,weights[0]+weights[1])\n",
        "  hidden=1/(1+np.exp(-pre_hidden))#applying sigmoid value in hidden layer\n",
        "  pred_out=np.dot(hidden,weights[2]+weights[3])\n",
        "  mean_squared_error=np.mean(np.square(pred_out-outputs))\n",
        "  return mean_squared_error\n",
        "\n",
        "def update_weights(inputs,outputs,weights,lr):\n",
        "  original_weights=deepcopy(weights)\n",
        "  temp_weights=deepcopy(weights)\n",
        "  updated_weights=deepcopy(weights)\n",
        "  original_loss=feed_forward(inputs,outputs,weights)\n",
        "  for i,layer in enumerate(original_weights):\n",
        "    for index,weight in np.ndenumerate(layer):\n",
        "      temp_weights=deepcopy(weights)\n",
        "      temp_weights[i][index]+=0.0001\n",
        "      loss_plus=feed_forward(inputs,outputs,temp_weights)\n",
        "      grad=(loss_plus-original_loss)/0.0001\n",
        "      updated_weights[i][index]-=grad*lr\n",
        "  return updated_weights,original_loss\n"
      ],
      "metadata": {
        "id": "pWemiATZ__OI"
      },
      "execution_count": null,
      "outputs": []
    },
    {
      "cell_type": "code",
      "source": [
        "from copy import deepcopy\n",
        "import numpy as np\n",
        "x=np.array([[1,1]])\n",
        "y=np.array([[0]])"
      ],
      "metadata": {
        "id": "-jLa0h41UvGw"
      },
      "execution_count": null,
      "outputs": []
    },
    {
      "cell_type": "code",
      "source": [
        "W = [\n",
        "    np.array([[-0.0053, 0.3793],\n",
        "              [-0.5820, -0.5204],\n",
        "              [-0.2723, 0.1896]], dtype=np.float32).T,\n",
        "    np.array([-0.0140, 0.5607, -0.0628], dtype=np.float32),\n",
        "    np.array([[ 0.1528, -0.1745, -0.1135]], dtype=np.float32).T,\n",
        "    np.array([-0.5516], dtype=np.float32)\n",
        "]"
      ],
      "metadata": {
        "id": "Me6v-ToHXmcm"
      },
      "execution_count": null,
      "outputs": []
    },
    {
      "cell_type": "code",
      "source": [
        "losses=[]\n",
        "for epoch in range(100):\n",
        "  W,loss=update_weights(x,y,W,0.1)\n",
        "  losses.append(loss)"
      ],
      "metadata": {
        "id": "mqlupRLYYW6_"
      },
      "execution_count": null,
      "outputs": []
    },
    {
      "cell_type": "code",
      "source": [
        "import matplotlib.pyplot as plt\n",
        "%matplotlib inline\n",
        "plt.plot(losses)\n",
        "plt.title('Loss over increasing number of epochs')"
      ],
      "metadata": {
        "colab": {
          "base_uri": "https://localhost:8080/",
          "height": 469
        },
        "id": "VUYxm8o4Yq8M",
        "outputId": "7ef45aed-82e8-4aa8-812c-f57551fc698f"
      },
      "execution_count": null,
      "outputs": [
        {
          "output_type": "execute_result",
          "data": {
            "text/plain": [
              "Text(0.5, 1.0, 'Loss over increasing number of epochs')"
            ]
          },
          "metadata": {},
          "execution_count": 10
        },
        {
          "output_type": "display_data",
          "data": {
            "text/plain": [
              "<Figure size 640x480 with 1 Axes>"
            ],
            "image/png": "[encoded data removed]"
          },
          "metadata": {}
        }
      ]
    },
    {
      "cell_type": "code",
      "source": [
        "W"
      ],
      "metadata": {
        "colab": {
          "base_uri": "https://localhost:8080/"
        },
        "id": "ygrxlkRGY_20",
        "outputId": "86ef6ddf-bd10-4024-b1a9-d7740b992d99"
      },
      "execution_count": null,
      "outputs": [
        {
          "output_type": "execute_result",
          "data": {
            "text/plain": [
              "[array([[-0.02125817, -0.62265784, -0.30834132],\n",
              "        [ 0.36334342, -0.5610578 ,  0.15354644]], dtype=float32),\n",
              " array([-0.04591845,  0.47938803, -0.13489884], dtype=float32),\n",
              " array([[ 0.31969866],\n",
              "        [-0.0340087 ],\n",
              "        [ 0.01129413]], dtype=float32),\n",
              " array([-0.12069324], dtype=float32)]"
            ]
          },
          "metadata": {},
          "execution_count": 11
        }
      ]
    },
    {
      "cell_type": "code",
      "source": [
        "pre_hidden=np.dot(x,W[0])+W[1]\n",
        "hidden=1/(1+np.exp(-pre_hidden))\n",
        "pred_out=np.dot(hidden,W[2]+W[3])"
      ],
      "metadata": {
        "id": "q1eUvITtaPd_"
      },
      "execution_count": null,
      "outputs": []
    },
    {
      "cell_type": "code",
      "source": [
        "pred_out"
      ],
      "metadata": {
        "colab": {
          "base_uri": "https://localhost:8080/"
        },
        "id": "_6y-_Nk5bVGH",
        "outputId": "fadc1e94-ced2-47e4-9903-598e130cd713"
      },
      "execution_count": null,
      "outputs": [
        {
          "output_type": "execute_result",
          "data": {
            "text/plain": [
              "array([[0.01611552]])"
            ]
          },
          "metadata": {},
          "execution_count": 13
        }
      ]
    },
    {
      "cell_type": "markdown",
      "source": [
        "#***Impact of the learning rate***"
      ],
      "metadata": {
        "id": "TOahl4Q7bg0V"
      }
    },
    {
      "cell_type": "code",
      "source": [
        "x = [[1],[2],[3],[4]]\n",
        "y = [[3],[6],[9],[12]]"
      ],
      "metadata": {
        "id": "nhlEtdyRfxkh"
      },
      "execution_count": null,
      "outputs": []
    },
    {
      "cell_type": "code",
      "source": [
        "from copy import deepcopy\n",
        "import numpy as np\n",
        "def feed_forward(inputs, outputs, weights):\n",
        "    out = np.dot(inputs,weights[0])+ weights[1]\n",
        "    mean_squared_error = np.mean(np.square(out - outputs))\n",
        "    return mean_squared_error"
      ],
      "metadata": {
        "id": "Z5h24aFkf1dM"
      },
      "execution_count": null,
      "outputs": []
    },
    {
      "cell_type": "code",
      "source": [
        "def update_weights(inputs, outputs, weights, lr):\n",
        "    original_weights = deepcopy(weights)\n",
        "    org_loss = feed_forward(inputs, outputs, original_weights)\n",
        "    updated_weights = deepcopy(weights)\n",
        "    for i, layer in enumerate(original_weights):\n",
        "        for index, weight in np.ndenumerate(layer):\n",
        "            temp_weights = deepcopy(weights)\n",
        "            temp_weights[i][index] += 0.0001\n",
        "            _loss_plus = feed_forward(inputs, outputs, temp_weights)\n",
        "            grad = (_loss_plus - org_loss)/(0.0001)\n",
        "            updated_weights[i][index] -= grad*lr\n",
        "    return updated_weights"
      ],
      "metadata": {
        "id": "l2l8CXncf4f5"
      },
      "execution_count": null,
      "outputs": []
    },
    {
      "cell_type": "code",
      "source": [
        "W = [np.array([[0]], dtype=np.float32), np.array([[0]], dtype=np.float32)]"
      ],
      "metadata": {
        "id": "udvL-303f7on"
      },
      "execution_count": null,
      "outputs": []
    },
    {
      "cell_type": "code",
      "source": [
        "weight_value = []\n",
        "for epx in range(1000):\n",
        "    W = update_weights(x,y,W,0.01)\n",
        "    weight_value.append(W[0][0][0])\n"
      ],
      "metadata": {
        "id": "Eogmyov5f-5Z"
      },
      "execution_count": null,
      "outputs": []
    },
    {
      "cell_type": "code",
      "source": [
        "import matplotlib.pyplot as plt\n",
        "%matplotlib inline\n",
        "plt.plot(weight_value)\n",
        "plt.title('Weight value over increasing epochs')\n",
        "plt.xlabel('Epochs')\n",
        "plt.ylabel('Weight value')"
      ],
      "metadata": {
        "colab": {
          "base_uri": "https://localhost:8080/",
          "height": 489
        },
        "id": "OGrSywcsgCW3",
        "outputId": "deed2b51-1796-4aa7-a23c-af55133995ba"
      },
      "execution_count": null,
      "outputs": [
        {
          "output_type": "execute_result",
          "data": {
            "text/plain": [
              "Text(0, 0.5, 'Weight value')"
            ]
          },
          "metadata": {},
          "execution_count": 41
        },
        {
          "output_type": "display_data",
          "data": {
            "text/plain": [
              "<Figure size 640x480 with 1 Axes>"
            ],
            "image/png": "[encoded data removed]"
          },
          "metadata": {}
        }
      ]
    },
    {
      "cell_type": "code",
      "source": [
        "W = [np.array([[0]], dtype=np.float32), np.array([[0]], dtype=np.float32)]\n",
        "weight_value = []\n",
        "for epx in range(1000):\n",
        "    W = update_weights(x,y,W,0.1)\n",
        "    weight_value.append(W[0][0][0])\n",
        "import matplotlib.pyplot as plt\n",
        "%matplotlib inline\n",
        "plt.plot(weight_value)\n",
        "plt.title('Weight value over increasing epochs with learning rate of 0.1')\n",
        "plt.xlabel('Epochs')\n",
        "plt.ylabel('Weight value')"
      ],
      "metadata": {
        "colab": {
          "base_uri": "https://localhost:8080/",
          "height": 489
        },
        "id": "hPCwCcqShBiN",
        "outputId": "41039053-10e6-411f-f672-aacbb50442ac"
      },
      "execution_count": null,
      "outputs": [
        {
          "output_type": "execute_result",
          "data": {
            "text/plain": [
              "Text(0, 0.5, 'Weight value')"
            ]
          },
          "metadata": {},
          "execution_count": 42
        },
        {
          "output_type": "display_data",
          "data": {
            "text/plain": [
              "<Figure size 640x480 with 1 Axes>"
            ],
            "image/png": "[encoded data removed]"
          },
          "metadata": {}
        }
      ]
    },
    {
      "cell_type": "code",
      "source": [],
      "metadata": {
        "id": "Aewj8-C6hIYU"
      },
      "execution_count": null,
      "outputs": []
    }
  ]
}